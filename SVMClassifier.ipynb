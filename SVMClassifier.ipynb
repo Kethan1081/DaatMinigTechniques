{
  "cells": [
    {
      "cell_type": "markdown",
      "metadata": {
        "id": "X3cWFysB5fKt"
      },
      "source": [
        "# CSE 572: Lab 6\n",
        "\n",
        "In this lab, you will practice implementing different variations of the Support Vector Machine (SVM) classifier.\n",
        "\n",
        "To execute and make changes to this notebook, click File > Save a copy to save your own version in your Google Drive or Github. Read the step-by-step instructions below carefully. To execute the code, click on each cell below and press the SHIFT-ENTER keys simultaneously or by clicking the Play button. \n",
        "\n",
        "When you finish executing all code/exercises, save your notebook then download a copy (.ipynb file). Submit the following **three** things:\n",
        "1. a link to your Colab notebook,\n",
        "2. the .ipynb file, and\n",
        "3. a pdf of the executed notebook on Canvas.\n",
        "\n",
        "To generate a pdf of the notebook, click File > Print > Save as PDF.\n"
      ]
    },
    {
      "cell_type": "markdown",
      "metadata": {
        "id": "qZ9_bCkw5fKy"
      },
      "source": [
        "### Load the iris dataset\n",
        "\n",
        "Load the dataset. For visualization purposes for the first exercise, we will convert the dataframe to have only two features (petal length and petal width) and two classes (Iris-virginica and Iris-other)."
      ]
    },
    {
      "cell_type": "code",
      "execution_count": 25,
      "metadata": {
        "id": "55wl8pO-5fKy",
        "colab": {
          "base_uri": "https://localhost:8080/",
          "height": 206
        },
        "outputId": "92ad955d-ed8e-4b53-9d3c-a8cd6a8cfdc5"
      },
      "outputs": [
        {
          "output_type": "execute_result",
          "data": {
            "text/plain": [
              "   sepal length  sepal width  petal length  petal width        class\n",
              "0           5.1          3.5           1.4          0.2  Iris-setosa\n",
              "1           4.9          3.0           1.4          0.2  Iris-setosa\n",
              "2           4.7          3.2           1.3          0.2  Iris-setosa\n",
              "3           4.6          3.1           1.5          0.2  Iris-setosa\n",
              "4           5.0          3.6           1.4          0.2  Iris-setosa"
            ],
            "text/html": [
              "\n",
              "  <div id=\"df-a879a9cb-658c-4b82-9c70-6050ddc9a987\">\n",
              "    <div class=\"colab-df-container\">\n",
              "      <div>\n",
              "<style scoped>\n",
              "    .dataframe tbody tr th:only-of-type {\n",
              "        vertical-align: middle;\n",
              "    }\n",
              "\n",
              "    .dataframe tbody tr th {\n",
              "        vertical-align: top;\n",
              "    }\n",
              "\n",
              "    .dataframe thead th {\n",
              "        text-align: right;\n",
              "    }\n",
              "</style>\n",
              "<table border=\"1\" class=\"dataframe\">\n",
              "  <thead>\n",
              "    <tr style=\"text-align: right;\">\n",
              "      <th></th>\n",
              "      <th>sepal length</th>\n",
              "      <th>sepal width</th>\n",
              "      <th>petal length</th>\n",
              "      <th>petal width</th>\n",
              "      <th>class</th>\n",
              "    </tr>\n",
              "  </thead>\n",
              "  <tbody>\n",
              "    <tr>\n",
              "      <th>0</th>\n",
              "      <td>5.1</td>\n",
              "      <td>3.5</td>\n",
              "      <td>1.4</td>\n",
              "      <td>0.2</td>\n",
              "      <td>Iris-setosa</td>\n",
              "    </tr>\n",
              "    <tr>\n",
              "      <th>1</th>\n",
              "      <td>4.9</td>\n",
              "      <td>3.0</td>\n",
              "      <td>1.4</td>\n",
              "      <td>0.2</td>\n",
              "      <td>Iris-setosa</td>\n",
              "    </tr>\n",
              "    <tr>\n",
              "      <th>2</th>\n",
              "      <td>4.7</td>\n",
              "      <td>3.2</td>\n",
              "      <td>1.3</td>\n",
              "      <td>0.2</td>\n",
              "      <td>Iris-setosa</td>\n",
              "    </tr>\n",
              "    <tr>\n",
              "      <th>3</th>\n",
              "      <td>4.6</td>\n",
              "      <td>3.1</td>\n",
              "      <td>1.5</td>\n",
              "      <td>0.2</td>\n",
              "      <td>Iris-setosa</td>\n",
              "    </tr>\n",
              "    <tr>\n",
              "      <th>4</th>\n",
              "      <td>5.0</td>\n",
              "      <td>3.6</td>\n",
              "      <td>1.4</td>\n",
              "      <td>0.2</td>\n",
              "      <td>Iris-setosa</td>\n",
              "    </tr>\n",
              "  </tbody>\n",
              "</table>\n",
              "</div>\n",
              "      <button class=\"colab-df-convert\" onclick=\"convertToInteractive('df-a879a9cb-658c-4b82-9c70-6050ddc9a987')\"\n",
              "              title=\"Convert this dataframe to an interactive table.\"\n",
              "              style=\"display:none;\">\n",
              "        \n",
              "  <svg xmlns=\"http://www.w3.org/2000/svg\" height=\"24px\"viewBox=\"0 0 24 24\"\n",
              "       width=\"24px\">\n",
              "    <path d=\"M0 0h24v24H0V0z\" fill=\"none\"/>\n",
              "    <path d=\"M18.56 5.44l.94 2.06.94-2.06 2.06-.94-2.06-.94-.94-2.06-.94 2.06-2.06.94zm-11 1L8.5 8.5l.94-2.06 2.06-.94-2.06-.94L8.5 2.5l-.94 2.06-2.06.94zm10 10l.94 2.06.94-2.06 2.06-.94-2.06-.94-.94-2.06-.94 2.06-2.06.94z\"/><path d=\"M17.41 7.96l-1.37-1.37c-.4-.4-.92-.59-1.43-.59-.52 0-1.04.2-1.43.59L10.3 9.45l-7.72 7.72c-.78.78-.78 2.05 0 2.83L4 21.41c.39.39.9.59 1.41.59.51 0 1.02-.2 1.41-.59l7.78-7.78 2.81-2.81c.8-.78.8-2.07 0-2.86zM5.41 20L4 18.59l7.72-7.72 1.47 1.35L5.41 20z\"/>\n",
              "  </svg>\n",
              "      </button>\n",
              "      \n",
              "  <style>\n",
              "    .colab-df-container {\n",
              "      display:flex;\n",
              "      flex-wrap:wrap;\n",
              "      gap: 12px;\n",
              "    }\n",
              "\n",
              "    .colab-df-convert {\n",
              "      background-color: #E8F0FE;\n",
              "      border: none;\n",
              "      border-radius: 50%;\n",
              "      cursor: pointer;\n",
              "      display: none;\n",
              "      fill: #1967D2;\n",
              "      height: 32px;\n",
              "      padding: 0 0 0 0;\n",
              "      width: 32px;\n",
              "    }\n",
              "\n",
              "    .colab-df-convert:hover {\n",
              "      background-color: #E2EBFA;\n",
              "      box-shadow: 0px 1px 2px rgba(60, 64, 67, 0.3), 0px 1px 3px 1px rgba(60, 64, 67, 0.15);\n",
              "      fill: #174EA6;\n",
              "    }\n",
              "\n",
              "    [theme=dark] .colab-df-convert {\n",
              "      background-color: #3B4455;\n",
              "      fill: #D2E3FC;\n",
              "    }\n",
              "\n",
              "    [theme=dark] .colab-df-convert:hover {\n",
              "      background-color: #434B5C;\n",
              "      box-shadow: 0px 1px 3px 1px rgba(0, 0, 0, 0.15);\n",
              "      filter: drop-shadow(0px 1px 2px rgba(0, 0, 0, 0.3));\n",
              "      fill: #FFFFFF;\n",
              "    }\n",
              "  </style>\n",
              "\n",
              "      <script>\n",
              "        const buttonEl =\n",
              "          document.querySelector('#df-a879a9cb-658c-4b82-9c70-6050ddc9a987 button.colab-df-convert');\n",
              "        buttonEl.style.display =\n",
              "          google.colab.kernel.accessAllowed ? 'block' : 'none';\n",
              "\n",
              "        async function convertToInteractive(key) {\n",
              "          const element = document.querySelector('#df-a879a9cb-658c-4b82-9c70-6050ddc9a987');\n",
              "          const dataTable =\n",
              "            await google.colab.kernel.invokeFunction('convertToInteractive',\n",
              "                                                     [key], {});\n",
              "          if (!dataTable) return;\n",
              "\n",
              "          const docLinkHtml = 'Like what you see? Visit the ' +\n",
              "            '<a target=\"_blank\" href=https://colab.research.google.com/notebooks/data_table.ipynb>data table notebook</a>'\n",
              "            + ' to learn more about interactive tables.';\n",
              "          element.innerHTML = '';\n",
              "          dataTable['output_type'] = 'display_data';\n",
              "          await google.colab.output.renderOutput(dataTable, element);\n",
              "          const docLink = document.createElement('div');\n",
              "          docLink.innerHTML = docLinkHtml;\n",
              "          element.appendChild(docLink);\n",
              "        }\n",
              "      </script>\n",
              "    </div>\n",
              "  </div>\n",
              "  "
            ]
          },
          "metadata": {},
          "execution_count": 25
        }
      ],
      "source": [
        "import pandas as pd\n",
        "\n",
        "data = pd.read_csv('http://archive.ics.uci.edu/ml/machine-learning-databases/iris/iris.data',header=None)\n",
        "data.columns = ['sepal length', 'sepal width', 'petal length', 'petal width', 'class']\n",
        "\n",
        "data.head()"
      ]
    },
    {
      "cell_type": "code",
      "execution_count": 26,
      "metadata": {
        "id": "igLxv5v-5fK1",
        "colab": {
          "base_uri": "https://localhost:8080/",
          "height": 206
        },
        "outputId": "e7ba7a76-0e6a-4e7c-ceb7-0906d8c726f2"
      },
      "outputs": [
        {
          "output_type": "execute_result",
          "data": {
            "text/plain": [
              "   petal length  petal width        class\n",
              "0           1.4          0.2  Iris-setosa\n",
              "1           1.4          0.2  Iris-setosa\n",
              "2           1.3          0.2  Iris-setosa\n",
              "3           1.5          0.2  Iris-setosa\n",
              "4           1.4          0.2  Iris-setosa"
            ],
            "text/html": [
              "\n",
              "  <div id=\"df-cd231c90-2031-4321-b32d-570ce22f9c3b\">\n",
              "    <div class=\"colab-df-container\">\n",
              "      <div>\n",
              "<style scoped>\n",
              "    .dataframe tbody tr th:only-of-type {\n",
              "        vertical-align: middle;\n",
              "    }\n",
              "\n",
              "    .dataframe tbody tr th {\n",
              "        vertical-align: top;\n",
              "    }\n",
              "\n",
              "    .dataframe thead th {\n",
              "        text-align: right;\n",
              "    }\n",
              "</style>\n",
              "<table border=\"1\" class=\"dataframe\">\n",
              "  <thead>\n",
              "    <tr style=\"text-align: right;\">\n",
              "      <th></th>\n",
              "      <th>petal length</th>\n",
              "      <th>petal width</th>\n",
              "      <th>class</th>\n",
              "    </tr>\n",
              "  </thead>\n",
              "  <tbody>\n",
              "    <tr>\n",
              "      <th>0</th>\n",
              "      <td>1.4</td>\n",
              "      <td>0.2</td>\n",
              "      <td>Iris-setosa</td>\n",
              "    </tr>\n",
              "    <tr>\n",
              "      <th>1</th>\n",
              "      <td>1.4</td>\n",
              "      <td>0.2</td>\n",
              "      <td>Iris-setosa</td>\n",
              "    </tr>\n",
              "    <tr>\n",
              "      <th>2</th>\n",
              "      <td>1.3</td>\n",
              "      <td>0.2</td>\n",
              "      <td>Iris-setosa</td>\n",
              "    </tr>\n",
              "    <tr>\n",
              "      <th>3</th>\n",
              "      <td>1.5</td>\n",
              "      <td>0.2</td>\n",
              "      <td>Iris-setosa</td>\n",
              "    </tr>\n",
              "    <tr>\n",
              "      <th>4</th>\n",
              "      <td>1.4</td>\n",
              "      <td>0.2</td>\n",
              "      <td>Iris-setosa</td>\n",
              "    </tr>\n",
              "  </tbody>\n",
              "</table>\n",
              "</div>\n",
              "      <button class=\"colab-df-convert\" onclick=\"convertToInteractive('df-cd231c90-2031-4321-b32d-570ce22f9c3b')\"\n",
              "              title=\"Convert this dataframe to an interactive table.\"\n",
              "              style=\"display:none;\">\n",
              "        \n",
              "  <svg xmlns=\"http://www.w3.org/2000/svg\" height=\"24px\"viewBox=\"0 0 24 24\"\n",
              "       width=\"24px\">\n",
              "    <path d=\"M0 0h24v24H0V0z\" fill=\"none\"/>\n",
              "    <path d=\"M18.56 5.44l.94 2.06.94-2.06 2.06-.94-2.06-.94-.94-2.06-.94 2.06-2.06.94zm-11 1L8.5 8.5l.94-2.06 2.06-.94-2.06-.94L8.5 2.5l-.94 2.06-2.06.94zm10 10l.94 2.06.94-2.06 2.06-.94-2.06-.94-.94-2.06-.94 2.06-2.06.94z\"/><path d=\"M17.41 7.96l-1.37-1.37c-.4-.4-.92-.59-1.43-.59-.52 0-1.04.2-1.43.59L10.3 9.45l-7.72 7.72c-.78.78-.78 2.05 0 2.83L4 21.41c.39.39.9.59 1.41.59.51 0 1.02-.2 1.41-.59l7.78-7.78 2.81-2.81c.8-.78.8-2.07 0-2.86zM5.41 20L4 18.59l7.72-7.72 1.47 1.35L5.41 20z\"/>\n",
              "  </svg>\n",
              "      </button>\n",
              "      \n",
              "  <style>\n",
              "    .colab-df-container {\n",
              "      display:flex;\n",
              "      flex-wrap:wrap;\n",
              "      gap: 12px;\n",
              "    }\n",
              "\n",
              "    .colab-df-convert {\n",
              "      background-color: #E8F0FE;\n",
              "      border: none;\n",
              "      border-radius: 50%;\n",
              "      cursor: pointer;\n",
              "      display: none;\n",
              "      fill: #1967D2;\n",
              "      height: 32px;\n",
              "      padding: 0 0 0 0;\n",
              "      width: 32px;\n",
              "    }\n",
              "\n",
              "    .colab-df-convert:hover {\n",
              "      background-color: #E2EBFA;\n",
              "      box-shadow: 0px 1px 2px rgba(60, 64, 67, 0.3), 0px 1px 3px 1px rgba(60, 64, 67, 0.15);\n",
              "      fill: #174EA6;\n",
              "    }\n",
              "\n",
              "    [theme=dark] .colab-df-convert {\n",
              "      background-color: #3B4455;\n",
              "      fill: #D2E3FC;\n",
              "    }\n",
              "\n",
              "    [theme=dark] .colab-df-convert:hover {\n",
              "      background-color: #434B5C;\n",
              "      box-shadow: 0px 1px 3px 1px rgba(0, 0, 0, 0.15);\n",
              "      filter: drop-shadow(0px 1px 2px rgba(0, 0, 0, 0.3));\n",
              "      fill: #FFFFFF;\n",
              "    }\n",
              "  </style>\n",
              "\n",
              "      <script>\n",
              "        const buttonEl =\n",
              "          document.querySelector('#df-cd231c90-2031-4321-b32d-570ce22f9c3b button.colab-df-convert');\n",
              "        buttonEl.style.display =\n",
              "          google.colab.kernel.accessAllowed ? 'block' : 'none';\n",
              "\n",
              "        async function convertToInteractive(key) {\n",
              "          const element = document.querySelector('#df-cd231c90-2031-4321-b32d-570ce22f9c3b');\n",
              "          const dataTable =\n",
              "            await google.colab.kernel.invokeFunction('convertToInteractive',\n",
              "                                                     [key], {});\n",
              "          if (!dataTable) return;\n",
              "\n",
              "          const docLinkHtml = 'Like what you see? Visit the ' +\n",
              "            '<a target=\"_blank\" href=https://colab.research.google.com/notebooks/data_table.ipynb>data table notebook</a>'\n",
              "            + ' to learn more about interactive tables.';\n",
              "          element.innerHTML = '';\n",
              "          dataTable['output_type'] = 'display_data';\n",
              "          await google.colab.output.renderOutput(dataTable, element);\n",
              "          const docLink = document.createElement('div');\n",
              "          docLink.innerHTML = docLinkHtml;\n",
              "          element.appendChild(docLink);\n",
              "        }\n",
              "      </script>\n",
              "    </div>\n",
              "  </div>\n",
              "  "
            ]
          },
          "metadata": {},
          "execution_count": 26
        }
      ],
      "source": [
        "# Drop the sepal features \n",
        "data = data.drop(['sepal length', 'sepal width'], axis=1)\n",
        "\n",
        "data.head()"
      ]
    },
    {
      "cell_type": "code",
      "execution_count": 27,
      "metadata": {
        "id": "GdGfXVUA5fK1"
      },
      "outputs": [],
      "source": [
        "# Replace the Iris-setosa and Iris-versicolor classes with Iris-other\n",
        "data['class'] = data['class'].replace('Iris-versicolor', 'Iris-other')\n",
        "data['class'] = data['class'].replace('Iris-setosa', 'Iris-other')"
      ]
    },
    {
      "cell_type": "markdown",
      "metadata": {
        "id": "aEU4Fyeq5fK2"
      },
      "source": [
        "Next, we will split our dataset into three subsets: training (60%), validation (20%), and test (20%)."
      ]
    },
    {
      "cell_type": "code",
      "execution_count": 28,
      "metadata": {
        "id": "5r2d5lqP5fK2"
      },
      "outputs": [],
      "source": [
        "import numpy as np\n",
        "\n",
        "# The first parameter is the shuffled data frame\n",
        "# The second parameter is the split indices which are at 60% of the data and 80% of the data\n",
        "train, val, test = np.split(data.sample(frac=1, random_state=42), [int(.6*len(data)), int(.8*len(data))])"
      ]
    },
    {
      "cell_type": "markdown",
      "metadata": {
        "id": "-XfjmSFo5fK3"
      },
      "source": [
        "Print the number of samples in each of the three subsets and the number of instances from each class. For example, for the training set you might print \"The training set has __ instances (__ virginica, __ other)\"."
      ]
    },
    {
      "cell_type": "code",
      "execution_count": 29,
      "metadata": {
        "id": "Az3irNIb5fK3",
        "colab": {
          "base_uri": "https://localhost:8080/",
          "height": 0
        },
        "outputId": "5b5bc281-84a1-4a26-f279-ac56f711b7eb"
      },
      "outputs": [
        {
          "output_type": "stream",
          "name": "stdout",
          "text": [
            "The training set has 90 instances (26 virginica, 64 other)\n",
            "The Validation set has 30 instances (12 virginica, 18 other)\n",
            "The Test set has 30 instances (12 virginica, 18 other)\n"
          ]
        }
      ],
      "source": [
        "# YOUR CODE HERE\n",
        "print (\"The training set has \" + str(train['class'].size) + \" instances (\" + str(train['class'].value_counts()[1]) + \" virginica, \" + str(train['class'].value_counts()[0]) + \" other)\")\n",
        "print (\"The Validation set has \" + str(val['class'].size) + \" instances (\" + str(val['class'].value_counts()[1]) + \" virginica, \" + str(val['class'].value_counts()[0]) + \" other)\")\n",
        "print (\"The Test set has \" + str(test['class'].size) + \" instances (\" + str(test['class'].value_counts()[1]) + \" virginica, \" + str(test['class'].value_counts()[0]) + \" other)\")\n"
      ]
    },
    {
      "cell_type": "markdown",
      "metadata": {
        "id": "Vwqd4LMA5fK4"
      },
      "source": [
        "## Support vector machines\n",
        "Support vector machines (SVMs) are a supervised learning method that finds the hyperplane (or set of hyperplanes) in the $n$-dimensional feature space (where $n$ is the number of input features) which maximizes the distance to the nearest training samples from each class. Maximizing this margin ensures that the decision boundary will be as generalizable as possible to new, unseen data points. "
      ]
    },
    {
      "cell_type": "code",
      "execution_count": 30,
      "metadata": {
        "id": "sehVtm-s5fK4"
      },
      "outputs": [],
      "source": [
        "# import the Support vector classifier\n",
        "from sklearn.svm import SVC"
      ]
    },
    {
      "cell_type": "markdown",
      "metadata": {
        "id": "LhZ5McEJ5fK5"
      },
      "source": [
        "The main hyperparameter to choose is the regularization parameter $C$, which represents the strength of the penalty incurred during training for allowing samples to be closer to the margin boundary (since a perfect decision boundary is not attainable for most problems). \n",
        "\n",
        "SVM also uses a kernel function $K$ to map samples to a higher dimensional space (this is referred to as the \"kernel trick\"). The SVM implementation in scikit-learn gives four options for the kernel function: linear (this is the standard SVM without non-linear kernel), polynomial, radial basis function (RBF), and sigmoid. \n",
        "\n",
        "The below example uses a linear kernel with $C=0.1$."
      ]
    },
    {
      "cell_type": "code",
      "execution_count": 31,
      "metadata": {
        "id": "S2CB37Nh5fK6"
      },
      "outputs": [],
      "source": [
        "C = 0.1\n",
        "linear_svc = SVC(kernel='linear', C=C)"
      ]
    },
    {
      "cell_type": "code",
      "execution_count": 32,
      "metadata": {
        "id": "VnkP86Fh5fK6",
        "colab": {
          "base_uri": "https://localhost:8080/",
          "height": 0
        },
        "outputId": "af6eefa8-43c0-46f2-d7d1-28460bd3eb9f"
      },
      "outputs": [
        {
          "output_type": "execute_result",
          "data": {
            "text/plain": [
              "SVC(C=0.1, kernel='linear')"
            ]
          },
          "metadata": {},
          "execution_count": 32
        }
      ],
      "source": [
        "# train the SVM classifier\n",
        "linear_svc.fit(train[['petal length','petal width']], train['class'])"
      ]
    },
    {
      "cell_type": "markdown",
      "metadata": {
        "id": "e0g9YOG35fK7"
      },
      "source": [
        "The following function for plotting the decision boundary is from the [Python Data Science Handbook by Jake VanderPlas](https://jakevdp.github.io/PythonDataScienceHandbook/05.07-support-vector-machines.html).  The function plots the decision boundary as a gray solid line and the margins as gray dashed lines. The support vectors are circled."
      ]
    },
    {
      "cell_type": "code",
      "execution_count": 33,
      "metadata": {
        "id": "hu_oqnTZ5fK7"
      },
      "outputs": [],
      "source": [
        "import matplotlib.pyplot as plt\n",
        "\n",
        "def plot_svc_decision_function(model, ax=None, plot_support=True):\n",
        "    \"\"\"Plot the decision function for a 2D SVC\"\"\"\n",
        "    if ax is None:\n",
        "        ax = plt.gca()\n",
        "    xlim = ax.get_xlim()\n",
        "    ylim = ax.get_ylim()\n",
        "    \n",
        "    # create grid to evaluate model\n",
        "    x = np.linspace(xlim[0], xlim[1], 30)\n",
        "    y = np.linspace(ylim[0], ylim[1], 30)\n",
        "    Y, X = np.meshgrid(y, x)\n",
        "    xy = np.vstack([X.ravel(), Y.ravel()]).T\n",
        "    P = model.decision_function(xy).reshape(X.shape)\n",
        "    \n",
        "    # plot decision boundary and margins\n",
        "    ax.contour(X, Y, P, colors='k',\n",
        "               levels=[-1, 0, 1], alpha=0.5,\n",
        "               linestyles=['--', '-', '--'])\n",
        "    \n",
        "    # plot support vectors\n",
        "    if plot_support:\n",
        "        ax.scatter(model.support_vectors_[:, 0],\n",
        "                   model.support_vectors_[:, 1],\n",
        "                   s=300, linewidth=1, facecolors='none', edgecolors='gray');\n",
        "    ax.set_xlim(xlim)\n",
        "    ax.set_ylim(ylim)"
      ]
    },
    {
      "cell_type": "markdown",
      "metadata": {
        "id": "xZZMtpdM5fK8"
      },
      "source": [
        "Plot the dataset and the learned decision boundary."
      ]
    },
    {
      "cell_type": "code",
      "execution_count": 34,
      "metadata": {
        "id": "OpXzHRAD5fK8",
        "colab": {
          "base_uri": "https://localhost:8080/",
          "height": 386
        },
        "outputId": "c45cc99b-5b65-46d3-805a-4e727d387aa9"
      },
      "outputs": [
        {
          "output_type": "stream",
          "name": "stderr",
          "text": [
            "/usr/local/lib/python3.7/dist-packages/sklearn/base.py:451: UserWarning: X does not have valid feature names, but SVC was fitted with feature names\n",
            "  \"X does not have valid feature names, but\"\n"
          ]
        },
        {
          "output_type": "display_data",
          "data": {
            "text/plain": [
              "<Figure size 504x360 with 1 Axes>"
            ],
            "image/png": "[encoded data removed]"
          },
          "metadata": {
            "needs_background": "light"
          }
        }
      ],
      "source": [
        "fig, ax = plt.subplots(1, figsize=(7,5))\n",
        "# Plot the setosa instances\n",
        "ax.scatter(train[train['class'] == 'Iris-virginica']['petal length'], \n",
        "               train[train['class'] == 'Iris-virginica']['petal width'],\n",
        "               label='Iris-virginica',\n",
        "               color='blue',\n",
        "               alpha=0.5)\n",
        "# Plot the other instances\n",
        "ax.scatter(train[train['class'] == 'Iris-other']['petal length'], \n",
        "               train[train['class'] == 'Iris-other']['petal width'],\n",
        "               label='Iris-other',\n",
        "               color='red',\n",
        "               alpha=0.5)\n",
        "\n",
        "plot_svc_decision_function(linear_svc, ax=ax)\n",
        "ax.set_xlabel('Petal length')\n",
        "ax.set_ylabel('Petal width')\n",
        "ax.legend()\n",
        "ax.set_title('SVM with Linear Kernel (C=%0.2f)' % C);"
      ]
    },
    {
      "cell_type": "markdown",
      "metadata": {
        "id": "xiYsEBQI5fK8"
      },
      "source": [
        "Train a new model with $C=100$ and plot the resulting decision boundary."
      ]
    },
    {
      "cell_type": "code",
      "execution_count": 35,
      "metadata": {
        "id": "rpNdAEdO5fK8",
        "colab": {
          "base_uri": "https://localhost:8080/",
          "height": 386
        },
        "outputId": "d0a0dbe9-c250-489a-a4e3-9bf4763dcc4c"
      },
      "outputs": [
        {
          "output_type": "stream",
          "name": "stderr",
          "text": [
            "/usr/local/lib/python3.7/dist-packages/sklearn/base.py:451: UserWarning: X does not have valid feature names, but SVC was fitted with feature names\n",
            "  \"X does not have valid feature names, but\"\n"
          ]
        },
        {
          "output_type": "display_data",
          "data": {
            "text/plain": [
              "<Figure size 504x360 with 1 Axes>"
            ],
            "image/png": "[encoded data removed]"
          },
          "metadata": {
            "needs_background": "light"
          }
        }
      ],
      "source": [
        "# YOUR CODE HERE\n",
        "C = 100\n",
        "linear_svc1 = SVC(kernel='linear', C=C)\n",
        "linear_svc1.fit(train[['petal length','petal width']], train['class'])\n",
        "\n",
        "fig, ax = plt.subplots(1, figsize=(7,5))\n",
        "# Plot the setosa instances\n",
        "ax.scatter(train[train['class'] == 'Iris-virginica']['petal length'], \n",
        "               train[train['class'] == 'Iris-virginica']['petal width'],\n",
        "               label='Iris-virginica',\n",
        "               color='blue',\n",
        "               alpha=0.5)\n",
        "# Plot the other instances\n",
        "ax.scatter(train[train['class'] == 'Iris-other']['petal length'], \n",
        "               train[train['class'] == 'Iris-other']['petal width'],\n",
        "               label='Iris-other',\n",
        "               color='red',\n",
        "               alpha=0.5)\n",
        "\n",
        "plot_svc_decision_function(linear_svc1, ax=ax)\n",
        "ax.set_xlabel('Petal length')\n",
        "ax.set_ylabel('Petal width')\n",
        "ax.legend()\n",
        "ax.set_title('SVM with Linear Kernel (C=%0.2f)' % C);"
      ]
    },
    {
      "cell_type": "markdown",
      "metadata": {
        "id": "YOACFlE15fK9"
      },
      "source": [
        "**Question 1:** \n",
        "\n",
        "How did a higher value of $C$ affect the decision boundary? Why?\n",
        "\n",
        "**Answer:** \n",
        "C value defines most possible mis classification by hyperplane. So more the value of C less miss classification. For C = 100 the boundry was decreased to increase the accuracy.\n",
        "\n",
        "YOUR ANSWER HERE"
      ]
    },
    {
      "cell_type": "markdown",
      "metadata": {
        "id": "hPEafcqO5fK9"
      },
      "source": [
        "Compute and print the accuracy of each classifier (with $C=0.1$ and $C=100$) on the validation set. "
      ]
    },
    {
      "cell_type": "code",
      "execution_count": 40,
      "metadata": {
        "id": "OyE4sA5y5fK9",
        "colab": {
          "base_uri": "https://localhost:8080/",
          "height": 0
        },
        "outputId": "c9d934b4-7753-4481-f18c-5e6631c37c67"
      },
      "outputs": [
        {
          "output_type": "stream",
          "name": "stdout",
          "text": [
            "Accuracy on val data 0.1 is 0.90000\n",
            "Accuracy on val data 100 is 0.96667\n"
          ]
        }
      ],
      "source": [
        "from sklearn.metrics import accuracy_score\n",
        "# YOUR CODE HERE\n",
        "val_pred_c = linear_svc.predict(val[['petal length','petal width']])\n",
        "val_pred_c_100 = linear_svc1.predict(val[['petal length','petal width']])\n",
        "print('Accuracy on val data 0.1 is %.5f' % (accuracy_score(val['class'], val_pred_c)))\n",
        "print('Accuracy on val data 100 is %.5f' % (accuracy_score(val['class'], val_pred_c_100)))"
      ]
    },
    {
      "cell_type": "markdown",
      "metadata": {
        "id": "dKR7FAwy5fK9"
      },
      "source": [
        "**Question 2:** \n",
        "\n",
        "Which value of $C$ resulted in higher validation accuracy?\n",
        "\n",
        "**Answer:** \n",
        "C = 100 has higher accuracy.\n",
        "\n",
        "YOUR ANSWER HERE"
      ]
    },
    {
      "cell_type": "markdown",
      "metadata": {
        "id": "RtaqE2IP5fK9"
      },
      "source": [
        "In addition to linear SVM, we can also implement SVM with polynomial, radial basis function (RBF), and sigmoid kernels. Train an SVM classifier with each kernel separately. Set $C$ to be the value of $C$ with highest validation accuracy from Question 2. \n",
        "\n",
        "You may need to consult the [sklearn documentation](https://scikit-learn.org/stable/modules/generated/sklearn.svm.SVC.html). The polynomial kernel requires the `degree` parameter to be passed; use `degree=3`."
      ]
    },
    {
      "cell_type": "code",
      "execution_count": 41,
      "metadata": {
        "id": "QTkMcbF55fK-",
        "colab": {
          "base_uri": "https://localhost:8080/",
          "height": 0
        },
        "outputId": "ea5bbef7-3000-4271-cd1d-09d3b01385a7"
      },
      "outputs": [
        {
          "output_type": "execute_result",
          "data": {
            "text/plain": [
              "SVC(C=100)"
            ]
          },
          "metadata": {},
          "execution_count": 41
        }
      ],
      "source": [
        "# RBF\n",
        "# YOUR CODE HERE\n",
        "linear_svc_rbf = SVC(kernel='rbf', C=100)\n",
        "linear_svc_rbf.fit(train[['petal length','petal width']], train['class'])"
      ]
    },
    {
      "cell_type": "code",
      "execution_count": 42,
      "metadata": {
        "id": "fh_8wlA55fK-",
        "colab": {
          "base_uri": "https://localhost:8080/",
          "height": 0
        },
        "outputId": "d0c04060-dd10-4dd9-d82e-b0d34b4de0c4"
      },
      "outputs": [
        {
          "output_type": "execute_result",
          "data": {
            "text/plain": [
              "SVC(C=100, kernel='poly')"
            ]
          },
          "metadata": {},
          "execution_count": 42
        }
      ],
      "source": [
        "# Polynomial (degree=3)\n",
        "# YOUR CODE HERE\n",
        "linear_svc_poly = SVC(kernel='poly', C=100, degree =3)\n",
        "linear_svc_poly.fit(train[['petal length','petal width']], train['class'])"
      ]
    },
    {
      "cell_type": "code",
      "execution_count": 43,
      "metadata": {
        "id": "MyOnnlBR5fK-",
        "colab": {
          "base_uri": "https://localhost:8080/",
          "height": 0
        },
        "outputId": "90414a0d-ff18-4af6-8f33-e76513fe2239"
      },
      "outputs": [
        {
          "output_type": "execute_result",
          "data": {
            "text/plain": [
              "SVC(C=100, kernel='sigmoid')"
            ]
          },
          "metadata": {},
          "execution_count": 43
        }
      ],
      "source": [
        "# Sigmoid\n",
        "# YOUR CODE HERE\n",
        "linear_svc_sig = SVC(kernel='sigmoid', C=100)\n",
        "linear_svc_sig.fit(train[['petal length','petal width']], train['class'])"
      ]
    },
    {
      "cell_type": "markdown",
      "metadata": {
        "id": "Gqx7tH6r5fK-"
      },
      "source": [
        "Compute and print the validation accuracy for each of the 3 classifiers."
      ]
    },
    {
      "cell_type": "code",
      "execution_count": 44,
      "metadata": {
        "id": "n6bH3HUU5fK-",
        "colab": {
          "base_uri": "https://localhost:8080/",
          "height": 0
        },
        "outputId": "896f3d1d-6424-4af7-f70a-328c0285ec90"
      },
      "outputs": [
        {
          "output_type": "stream",
          "name": "stdout",
          "text": [
            "Accuracy on val data rbf is 0.96667\n",
            "Accuracy on val data poly is 0.96667\n",
            "Accuracy on val data sigmoid is 0.43333\n"
          ]
        }
      ],
      "source": [
        "# YOUR CODE HERE\n",
        "val_pred_c_rbf = linear_svc_rbf.predict(val[['petal length','petal width']])\n",
        "val_pred_c_poly = linear_svc_poly.predict(val[['petal length','petal width']])\n",
        "val_pred_c_sig = linear_svc_sig.predict(val[['petal length','petal width']])\n",
        "print('Accuracy on val data rbf is %.5f' % (accuracy_score(val['class'], val_pred_c_rbf)))\n",
        "print('Accuracy on val data poly is %.5f' % (accuracy_score(val['class'], val_pred_c_poly)))\n",
        "print('Accuracy on val data sigmoid is %.5f' % (accuracy_score(val['class'], val_pred_c_sig)))"
      ]
    },
    {
      "cell_type": "markdown",
      "metadata": {
        "id": "RnKeiGHm5fK-"
      },
      "source": [
        "**Question 3:** \n",
        "\n",
        "Which of the four kernels (the three above + linear) gave the highest validation accuracy? (If multiple tied for the highest accuracy, list all of them.)\n",
        "\n",
        "**Answer:** \n",
        "\n",
        "Highest - rbf, poly, linear\n",
        "\n",
        "YOUR ANSWER HERE"
      ]
    },
    {
      "cell_type": "markdown",
      "metadata": {
        "id": "7CFJ3WUu5fLC"
      },
      "source": [
        "### SVM with non-linear decision boundary\n",
        "\n",
        "For the Iris-virginica vs. Iris-other version of the Iris dataset, the two classes were mostly linearly separable with a small number of classification errors. However, if we instead wanted to classify Iris-versicolor vs. Iris-other, the two classes would not be linearly separable. Below, we load the dataset again and convert it to Iris-versicolor vs. Iris-other and plot the dataset as a scatter plot."
      ]
    },
    {
      "cell_type": "code",
      "execution_count": 45,
      "metadata": {
        "id": "Ujw8FxL-5fLC",
        "colab": {
          "base_uri": "https://localhost:8080/",
          "height": 352
        },
        "outputId": "d6c77bbb-0f36-48f9-da9c-719057ccddcc"
      },
      "outputs": [
        {
          "output_type": "execute_result",
          "data": {
            "text/plain": [
              "<matplotlib.legend.Legend at 0x7fc45f807d90>"
            ]
          },
          "metadata": {},
          "execution_count": 45
        },
        {
          "output_type": "display_data",
          "data": {
            "text/plain": [
              "<Figure size 504x360 with 1 Axes>"
            ],
            "image/png": "[encoded data removed]"
          },
          "metadata": {
            "needs_background": "light"
          }
        }
      ],
      "source": [
        "# Load the dataset\n",
        "data = pd.read_csv('http://archive.ics.uci.edu/ml/machine-learning-databases/iris/iris.data',header=None)\n",
        "data.columns = ['sepal length', 'sepal width', 'petal length', 'petal width', 'class']\n",
        "\n",
        "# Drop the sepal features\n",
        "data = data.drop(['sepal length', 'sepal width'], axis=1)\n",
        "\n",
        "# Replace the Iris-virginica and Iris-setosa classes with Iris-other\n",
        "data['class'] = data['class'].replace('Iris-virginica', 'Iris-other')\n",
        "data['class'] = data['class'].replace('Iris-setosa', 'Iris-other')\n",
        "\n",
        "# Split the data into train/val/test\n",
        "train, val, test = np.split(data.sample(frac=1, random_state=42), [int(.6*len(data)), int(.8*len(data))])\n",
        "\n",
        "# Plot the dataset\n",
        "fig, ax = plt.subplots(1, figsize=(7,5))\n",
        "# Plot the versicolor instances\n",
        "ax.scatter(train[train['class'] == 'Iris-versicolor']['petal length'], \n",
        "               train[train['class'] == 'Iris-versicolor']['petal width'],\n",
        "               label='Iris-versicolor',\n",
        "               color='blue',\n",
        "               alpha=0.5)\n",
        "\n",
        "# Plot the other instances\n",
        "ax.scatter(train[train['class'] == 'Iris-other']['petal length'], \n",
        "               train[train['class'] == 'Iris-other']['petal width'],\n",
        "               label='Iris-other',\n",
        "               color='red',\n",
        "               alpha=0.5)\n",
        "\n",
        "ax.set_xlabel('Petal length')\n",
        "ax.set_ylabel('Petal width')\n",
        "ax.legend()"
      ]
    },
    {
      "cell_type": "markdown",
      "metadata": {
        "id": "-k8X2YF55fLD"
      },
      "source": [
        "If we train a linear SVM to classify these instances, the accuracy will be low. Train a linear SVM and plot the decision boundary to show this (use $C=100$)."
      ]
    },
    {
      "cell_type": "code",
      "execution_count": 46,
      "metadata": {
        "id": "gq3yQFxn5fLD",
        "colab": {
          "base_uri": "https://localhost:8080/",
          "height": 386
        },
        "outputId": "dfa2752a-eadb-47db-ee27-2e1e1ce73645"
      },
      "outputs": [
        {
          "output_type": "stream",
          "name": "stderr",
          "text": [
            "/usr/local/lib/python3.7/dist-packages/sklearn/base.py:451: UserWarning: X does not have valid feature names, but SVC was fitted with feature names\n",
            "  \"X does not have valid feature names, but\"\n"
          ]
        },
        {
          "output_type": "display_data",
          "data": {
            "text/plain": [
              "<Figure size 504x360 with 1 Axes>"
            ],
            "image/png": "[encoded data removed]"
          },
          "metadata": {
            "needs_background": "light"
          }
        }
      ],
      "source": [
        "# YOUR CODE HERE\n",
        "C = 100\n",
        "linear_svc1 = SVC(kernel='linear', C=C)\n",
        "linear_svc1.fit(train[['petal length','petal width']], train['class'])\n",
        "\n",
        "fig, ax = plt.subplots(1, figsize=(7,5))\n",
        "# Plot the setosa instances\n",
        "ax.scatter(train[train['class'] == 'Iris-virginica']['petal length'], \n",
        "               train[train['class'] == 'Iris-virginica']['petal width'],\n",
        "               label='Iris-virginica',\n",
        "               color='blue',\n",
        "               alpha=0.5)\n",
        "# Plot the other instances\n",
        "ax.scatter(train[train['class'] == 'Iris-other']['petal length'], \n",
        "               train[train['class'] == 'Iris-other']['petal width'],\n",
        "               label='Iris-other',\n",
        "               color='red',\n",
        "               alpha=0.5)\n",
        "\n",
        "plot_svc_decision_function(linear_svc1, ax=ax)\n",
        "ax.set_xlabel('Petal length')\n",
        "ax.set_ylabel('Petal width')\n",
        "ax.legend()\n",
        "ax.set_title('SVM with Linear Kernel (C=%0.2f)' % C);"
      ]
    },
    {
      "cell_type": "markdown",
      "metadata": {
        "id": "ve4t4Mjr5fLD"
      },
      "source": [
        "The radial basis function kernel will allow us to learn an elliptical decision boundary that will better fit the data. Train an SVM with RBF kernel and plot the decision boundary (use $C=100$)."
      ]
    },
    {
      "cell_type": "code",
      "execution_count": 47,
      "metadata": {
        "id": "2rM3BWzT5fLD",
        "colab": {
          "base_uri": "https://localhost:8080/",
          "height": 388
        },
        "outputId": "73cc2113-beae-4a20-a927-b6836e4f9ff0"
      },
      "outputs": [
        {
          "output_type": "stream",
          "name": "stderr",
          "text": [
            "/usr/local/lib/python3.7/dist-packages/sklearn/base.py:451: UserWarning: X does not have valid feature names, but SVC was fitted with feature names\n",
            "  \"X does not have valid feature names, but\"\n"
          ]
        },
        {
          "output_type": "execute_result",
          "data": {
            "text/plain": [
              "<matplotlib.legend.Legend at 0x7fc45f770f10>"
            ]
          },
          "metadata": {},
          "execution_count": 47
        },
        {
          "output_type": "display_data",
          "data": {
            "text/plain": [
              "<Figure size 504x360 with 1 Axes>"
            ],
            "image/png": "[encoded data removed]"
          },
          "metadata": {
            "needs_background": "light"
          }
        }
      ],
      "source": [
        "# YOUR CODE HERE\n",
        "rbf_svc = SVC(kernel='rbf', C=C)\n",
        "rbf_svc.fit(train[['petal length','petal width']], train['class'])\n",
        "\n",
        "fig, ax = plt.subplots(1, figsize=(7,5))\n",
        "# Plot the setosa instances\n",
        "ax.scatter(train[train['class'] == 'Iris-virginica']['petal length'], \n",
        "               train[train['class'] == 'Iris-virginica']['petal width'],\n",
        "               label='Iris-virginica',\n",
        "               color='blue',\n",
        "               alpha=0.5)\n",
        "# Plot the other instances\n",
        "ax.scatter(train[train['class'] == 'Iris-other']['petal length'], \n",
        "               train[train['class'] == 'Iris-other']['petal width'],\n",
        "               label='Iris-other',\n",
        "               color='red',\n",
        "               alpha=0.5)\n",
        "\n",
        "plot_svc_decision_function(rbf_svc, ax=ax)\n",
        "ax.set_xlabel('Petal length')\n",
        "ax.set_ylabel('Petal width')\n",
        "ax.legend()"
      ]
    },
    {
      "cell_type": "markdown",
      "metadata": {
        "id": "RYhg9dNa5fLD"
      },
      "source": [
        "Compute and print the validation accuracy of your linear and RBF SVM classifiers."
      ]
    },
    {
      "cell_type": "code",
      "execution_count": 48,
      "metadata": {
        "id": "gVuJUz0h5fLD",
        "colab": {
          "base_uri": "https://localhost:8080/",
          "height": 0
        },
        "outputId": "fe7fb673-a292-448f-8bb1-db6166efa98b"
      },
      "outputs": [
        {
          "output_type": "stream",
          "name": "stdout",
          "text": [
            "Accuracy on val data rbf is 0.96667\n"
          ]
        }
      ],
      "source": [
        "# YOUR CODE HERE\n",
        "#do linear as well\n",
        "val_pred_c_rbf = rbf_svc.predict(val[['petal length','petal width']])\n",
        "print('Accuracy on val data rbf is %.5f' % (accuracy_score(val['class'], val_pred_c_rbf)))"
      ]
    },
    {
      "cell_type": "markdown",
      "metadata": {
        "id": "OBmROkYg5fLD"
      },
      "source": [
        "Finally, use the best model (the one with the highest validation accuracy in the last cell) to compute the final accuracy on our test set. "
      ]
    },
    {
      "cell_type": "code",
      "execution_count": 49,
      "metadata": {
        "id": "oKAOEBJT5fLD",
        "colab": {
          "base_uri": "https://localhost:8080/",
          "height": 0
        },
        "outputId": "4ee28ee9-923c-4c17-c8bd-131de1056b62"
      },
      "outputs": [
        {
          "output_type": "stream",
          "name": "stdout",
          "text": [
            "Accuracy on val data rbf is 0.96667\n"
          ]
        }
      ],
      "source": [
        "# YOUR CODE HERE\n",
        "test_pred_c_rbf = rbf_svc.predict(test[['petal length','petal width']])\n",
        "print('Accuracy on test data rbf is %.5f' % (accuracy_score(test['class'], test_pred_c_rbf)))"
      ]
    },
    {
      "cell_type": "markdown",
      "metadata": {
        "id": "vCZmedAy5fLE"
      },
      "source": [
        "### Put everything together\n",
        "\n",
        "In this last section, we load the full iris dataset including all features and the three classes and split it into train/val/test subsets. Then you will implement the following steps:\n",
        "1. Train an SVM with RBF kernel using all four input features and all 3 classes.\n",
        "2. Evaluate whether $C=0.1$, $C=1$, $C=10$, or $C=100$ gives better validation accuracy. Print the validation accuracy for both.\n",
        "3. Use the model with the setting of $C$ that gave the highest validation accuracy to make predictions for the *test* set and compute/print the final accuracy on the test set."
      ]
    },
    {
      "cell_type": "code",
      "execution_count": 50,
      "metadata": {
        "id": "xsKiBkYR5fLE"
      },
      "outputs": [],
      "source": [
        "# Load the dataset\n",
        "data = pd.read_csv('http://archive.ics.uci.edu/ml/machine-learning-databases/iris/iris.data',header=None)\n",
        "data.columns = ['sepal length', 'sepal width', 'petal length', 'petal width', 'class']\n",
        "\n",
        "# Split the data into train/val/test\n",
        "train, val, test = np.split(data.sample(frac=1, random_state=42), [int(.6*len(data)), int(.8*len(data))])"
      ]
    },
    {
      "cell_type": "code",
      "execution_count": 54,
      "metadata": {
        "id": "QnpRbBc95fLE",
        "colab": {
          "base_uri": "https://localhost:8080/",
          "height": 0
        },
        "outputId": "b2269bfe-8b89-4f4e-d16a-548b87c40a54"
      },
      "outputs": [
        {
          "output_type": "stream",
          "name": "stdout",
          "text": [
            "Accuracy on val data rbf p1 is 0.73333\n",
            "Accuracy on val data rbf 1 is 0.93333\n",
            "Accuracy on val data rbf 10 is 0.96667\n",
            "Accuracy on val data rbf 100 is 0.93333\n"
          ]
        }
      ],
      "source": [
        "# Train SVMs and evaluate validation accuracy\n",
        "rbf_svcp1 = SVC(kernel='rbf', C=0.1)\n",
        "rbf_svcp1.fit(train[['sepal length', 'sepal width', 'petal length', 'petal width']], train['class'])\n",
        "rbf_svc1 = SVC(kernel='rbf', C=1)\n",
        "rbf_svc1.fit(train[['sepal length', 'sepal width', 'petal length', 'petal width']], train['class'])\n",
        "rbf_svc10 = SVC(kernel='rbf', C=10)\n",
        "rbf_svc10.fit(train[['sepal length', 'sepal width', 'petal length', 'petal width']], train['class'])\n",
        "rbf_svc100 = SVC(kernel='rbf', C=100)\n",
        "rbf_svc100.fit(train[['sepal length', 'sepal width', 'petal length', 'petal width']], train['class'])\n",
        "\n",
        "val_pred_rbf_p1 = rbf_svcp1.predict(val[['sepal length', 'sepal width', 'petal length', 'petal width']])\n",
        "val_pred_rbf_1 = rbf_svc1.predict(val[['sepal length', 'sepal width', 'petal length', 'petal width']])\n",
        "val_pred_rbf_10 = rbf_svc10.predict(val[['sepal length', 'sepal width', 'petal length', 'petal width']])\n",
        "val_pred_rbf_100 = rbf_svc100.predict(val[['sepal length', 'sepal width', 'petal length', 'petal width']])\n",
        "\n",
        "print('Accuracy on val data rbf p1 is %.5f' % (accuracy_score(val['class'], val_pred_rbf_p1)))\n",
        "print('Accuracy on val data rbf 1 is %.5f' % (accuracy_score(val['class'], val_pred_rbf_1)))\n",
        "print('Accuracy on val data rbf 10 is %.5f' % (accuracy_score(val['class'], val_pred_rbf_10)))\n",
        "print('Accuracy on val data rbf 100 is %.5f' % (accuracy_score(val['class'], val_pred_rbf_100)))\n",
        "# YOUR CODE HERE"
      ]
    },
    {
      "cell_type": "code",
      "execution_count": 55,
      "metadata": {
        "id": "bFH6pEH05fLE",
        "colab": {
          "base_uri": "https://localhost:8080/",
          "height": 0
        },
        "outputId": "45e4808a-3daa-418d-951c-151b5fbf239e"
      },
      "outputs": [
        {
          "output_type": "stream",
          "name": "stdout",
          "text": [
            "Accuracy on test data rbf 10 is 0.96667\n"
          ]
        }
      ],
      "source": [
        "# Use best model to predict test set and compute test accuracy\n",
        "# YOUR CODE HERE\n",
        "test_pred_rbf_10 = rbf_svc10.predict(test[['sepal length', 'sepal width', 'petal length', 'petal width']])\n",
        "\n",
        "print('Accuracy on test data rbf 10 is %.5f' % (accuracy_score(test['class'], test_pred_rbf_10)))\n"
      ]
    }
  ],
  "metadata": {
    "kernelspec": {
      "display_name": "Python 3",
      "language": "python",
      "name": "python3"
    },
    "language_info": {
      "codemirror_mode": {
        "name": "ipython",
        "version": 3
      },
      "file_extension": ".py",
      "mimetype": "text/x-python",
      "name": "python",
      "nbconvert_exporter": "python",
      "pygments_lexer": "ipython3",
      "version": "3.6.15"
    },
    "colab": {
      "provenance": []
    }
  },
  "nbformat": 4,
  "nbformat_minor": 0
}